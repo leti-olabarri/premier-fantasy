{
 "cells": [
  {
   "cell_type": "code",
   "execution_count": 7,
   "id": "2e46b344-d92b-470f-9421-3a3feae927c1",
   "metadata": {},
   "outputs": [],
   "source": [
    "import re\n",
    "import pandas as pd\n",
    "import numpy as np"
   ]
  },
  {
   "cell_type": "code",
   "execution_count": 22,
   "id": "46f473c0-e268-4c3b-88e4-927856b243c3",
   "metadata": {},
   "outputs": [],
   "source": [
    "def startsWithDateAndTime(s):\n",
    "    pattern = '^([0-9]+)(/)([0-9]+)(/)([0-9][0-9]) ([0-9]+):([0-9][0-9]) -'\n",
    "    result = re.match(pattern, s)\n",
    "    if result:\n",
    "        return True\n",
    "    return False"
   ]
  },
  {
   "cell_type": "code",
   "execution_count": 72,
   "id": "5cd18e50-41f0-4e49-a3e5-1a36635d8334",
   "metadata": {},
   "outputs": [],
   "source": [
    "def getDataPoint(line):   \n",
    "    splitLine = line.split(' - ')\n",
    "    dateTime = splitLine[0]\n",
    "    date, time = dateTime.split(' ') \n",
    "    message = ' '.join(splitLine[1:])\n",
    "    splitMessage = message.split(': ')\n",
    "    author = splitMessage[0]\n",
    "    message = ' '.join(splitMessage[1:])\n",
    "    return date, time, author, message"
   ]
  },
  {
   "cell_type": "code",
   "execution_count": 73,
   "id": "4a689e1f-0cbe-45f0-903c-e35b02d0dfb8",
   "metadata": {},
   "outputs": [],
   "source": [
    "parsedData = [] # List to keep track of data so it can be used by a Pandas dataframe\n",
    "### Uploading exported chat file\n",
    "conversationPath = '../data/Chat de WhatsApp con Vir.txt' # chat file\n",
    "with open(conversationPath, encoding=\"utf-8\") as fp:\n",
    "    ### Skipping first line of the file because contains information related to something about end-to-end encryption\n",
    "    fp.readline() \n",
    "    messageBuffer = [] \n",
    "    date, time, author = None, None, None\n",
    "    while True:\n",
    "        line = fp.readline() \n",
    "        if not line: \n",
    "            break\n",
    "        line = line.strip()\n",
    "        if startsWithDateAndTime(line):\n",
    "            if len(messageBuffer) > 0: \n",
    "                parsedData.append([date, time, author, ' '.join(messageBuffer)]) \n",
    "            messageBuffer.clear()\n",
    "            date, time, author, message = getDataPoint(line) \n",
    "            messageBuffer.append(message)\n",
    "        else:\n",
    "            messageBuffer.append(line)\n",
    "df = pd.DataFrame(parsedData, columns=['Date', 'Time', 'Author', 'Message']) # Initialising a pandas Dataframe.\n",
    "### changing datatype of \"Date\" column.\n",
    "df[\"Date\"] = pd.to_datetime(df[\"Date\"])"
   ]
  },
  {
   "cell_type": "code",
   "execution_count": 74,
   "id": "8fff0a34-8a92-4374-adab-f2862180c91f",
   "metadata": {},
   "outputs": [
    {
     "data": {
      "text/html": [
       "<div>\n",
       "<style scoped>\n",
       "    .dataframe tbody tr th:only-of-type {\n",
       "        vertical-align: middle;\n",
       "    }\n",
       "\n",
       "    .dataframe tbody tr th {\n",
       "        vertical-align: top;\n",
       "    }\n",
       "\n",
       "    .dataframe thead th {\n",
       "        text-align: right;\n",
       "    }\n",
       "</style>\n",
       "<table border=\"1\" class=\"dataframe\">\n",
       "  <thead>\n",
       "    <tr style=\"text-align: right;\">\n",
       "      <th></th>\n",
       "      <th>Date</th>\n",
       "      <th>Time</th>\n",
       "      <th>Author</th>\n",
       "      <th>Message</th>\n",
       "    </tr>\n",
       "  </thead>\n",
       "  <tbody>\n",
       "    <tr>\n",
       "      <th>0</th>\n",
       "      <td>2019-12-16</td>\n",
       "      <td>20:28</td>\n",
       "      <td>Vir</td>\n",
       "      <td>Mañana nos juntamos media horita y vemos un po...</td>\n",
       "    </tr>\n",
       "    <tr>\n",
       "      <th>1</th>\n",
       "      <td>2019-12-16</td>\n",
       "      <td>20:28</td>\n",
       "      <td>Vir</td>\n",
       "      <td>?!</td>\n",
       "    </tr>\n",
       "    <tr>\n",
       "      <th>2</th>\n",
       "      <td>2019-12-16</td>\n",
       "      <td>20:28</td>\n",
       "      <td>Vir</td>\n",
       "      <td>Un poco a modo de recuperar las weekly que ten...</td>\n",
       "    </tr>\n",
       "    <tr>\n",
       "      <th>3</th>\n",
       "      <td>2019-12-16</td>\n",
       "      <td>21:10</td>\n",
       "      <td>Leticia Olábarri</td>\n",
       "      <td>Te los agradecería muchísimo, la verdad</td>\n",
       "    </tr>\n",
       "    <tr>\n",
       "      <th>4</th>\n",
       "      <td>2019-12-16</td>\n",
       "      <td>21:11</td>\n",
       "      <td>Leticia Olábarri</td>\n",
       "      <td>*lo</td>\n",
       "    </tr>\n",
       "  </tbody>\n",
       "</table>\n",
       "</div>"
      ],
      "text/plain": [
       "        Date   Time            Author  \\\n",
       "0 2019-12-16  20:28               Vir   \n",
       "1 2019-12-16  20:28               Vir   \n",
       "2 2019-12-16  20:28               Vir   \n",
       "3 2019-12-16  21:10  Leticia Olábarri   \n",
       "4 2019-12-16  21:11  Leticia Olábarri   \n",
       "\n",
       "                                             Message  \n",
       "0  Mañana nos juntamos media horita y vemos un po...  \n",
       "1                                                 ?!  \n",
       "2  Un poco a modo de recuperar las weekly que ten...  \n",
       "3            Te los agradecería muchísimo, la verdad  \n",
       "4                                                *lo  "
      ]
     },
     "execution_count": 74,
     "metadata": {},
     "output_type": "execute_result"
    }
   ],
   "source": [
    "df.head()"
   ]
  },
  {
   "cell_type": "code",
   "execution_count": 75,
   "id": "bbe9c9f3-cd50-4299-96d7-289257a14899",
   "metadata": {},
   "outputs": [
    {
     "data": {
      "text/plain": [
       "(7091, 4)"
      ]
     },
     "execution_count": 75,
     "metadata": {},
     "output_type": "execute_result"
    }
   ],
   "source": [
    "df.shape"
   ]
  },
  {
   "cell_type": "code",
   "execution_count": 76,
   "id": "3227c1ea-d3f8-4875-8d57-1491890352ce",
   "metadata": {},
   "outputs": [
    {
     "name": "stdout",
     "output_type": "stream",
     "text": [
      "<class 'pandas.core.frame.DataFrame'>\n",
      "RangeIndex: 7091 entries, 0 to 7090\n",
      "Data columns (total 4 columns):\n",
      " #   Column   Non-Null Count  Dtype         \n",
      "---  ------   --------------  -----         \n",
      " 0   Date     7091 non-null   datetime64[ns]\n",
      " 1   Time     7091 non-null   object        \n",
      " 2   Author   7091 non-null   object        \n",
      " 3   Message  7091 non-null   object        \n",
      "dtypes: datetime64[ns](1), object(3)\n",
      "memory usage: 221.7+ KB\n"
     ]
    }
   ],
   "source": [
    "df.info()"
   ]
  },
  {
   "cell_type": "code",
   "execution_count": 78,
   "id": "56915cf6-e9a5-4307-8187-af4a05f39b10",
   "metadata": {},
   "outputs": [
    {
     "data": {
      "text/plain": [
       "Date       0\n",
       "Time       0\n",
       "Author     0\n",
       "Message    0\n",
       "dtype: int64"
      ]
     },
     "execution_count": 78,
     "metadata": {},
     "output_type": "execute_result"
    }
   ],
   "source": [
    "df.isnull().sum()"
   ]
  },
  {
   "cell_type": "code",
   "execution_count": 79,
   "id": "d99991ae-2aab-4942-ba39-9054d143cbd5",
   "metadata": {},
   "outputs": [],
   "source": [
    "df.to_csv(\"../data/Vir.csv\", index=False, header=True)"
   ]
  },
  {
   "cell_type": "code",
   "execution_count": null,
   "id": "9bde4a8b-277c-4ca9-acb1-7c3bbef729d0",
   "metadata": {},
   "outputs": [],
   "source": []
  }
 ],
 "metadata": {
  "kernelspec": {
   "display_name": "Python 3 (ipykernel)",
   "language": "python",
   "name": "python3"
  },
  "language_info": {
   "codemirror_mode": {
    "name": "ipython",
    "version": 3
   },
   "file_extension": ".py",
   "mimetype": "text/x-python",
   "name": "python",
   "nbconvert_exporter": "python",
   "pygments_lexer": "ipython3",
   "version": "3.9.7"
  }
 },
 "nbformat": 4,
 "nbformat_minor": 5
}
