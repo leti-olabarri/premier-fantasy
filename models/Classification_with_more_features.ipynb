{
  "nbformat": 4,
  "nbformat_minor": 0,
  "metadata": {
    "colab": {
      "name": "Untitled0.ipynb",
      "provenance": [],
      "collapsed_sections": [],
      "mount_file_id": "11bzThimv3-fOa6H9ASF999xdUtvIgmZJ",
      "authorship_tag": "ABX9TyPmT1wRDIOg00n61OFAfim2",
      "include_colab_link": true
    },
    "kernelspec": {
      "name": "python3",
      "display_name": "Python 3"
    },
    "language_info": {
      "name": "python"
    }
  },
  "cells": [
    {
      "cell_type": "markdown",
      "metadata": {
        "id": "view-in-github",
        "colab_type": "text"
      },
      "source": [
        "<a href=\"https://colab.research.google.com/github/leti-olabarri/premier-fantasy/blob/feature%2Fload_data/models/Classification_with_more_features.ipynb\" target=\"_parent\"><img src=\"https://colab.research.google.com/assets/colab-badge.svg\" alt=\"Open In Colab\"/></a>"
      ]
    },
    {
      "cell_type": "code",
      "metadata": {
        "id": "-yH1ps77x0EM"
      },
      "source": [
        "import tensorflow as tf\n",
        "\n",
        "from tensorflow.keras import layers\n",
        "from tensorflow.keras import losses\n",
        "from tensorflow.keras import preprocessing\n",
        "\n",
        "import pandas as pd\n",
        "import matplotlib.pyplot as plt\n",
        "import re\n",
        "import numpy as np\n",
        "\n",
        "from sklearn.model_selection import train_test_split"
      ],
      "execution_count": 1,
      "outputs": []
    },
    {
      "cell_type": "code",
      "metadata": {
        "colab": {
          "base_uri": "https://localhost:8080/"
        },
        "id": "svsxftG6y4lx",
        "outputId": "53e52b14-8f65-4826-b68f-f8fada86f0a8"
      },
      "source": [
        "!wget /resources/data/all.txt https://drive.google.com/file/d/1IH1tCQRbJBJGTnUxKNnCwvhLI9IPVCnf/view?usp=sharing"
      ],
      "execution_count": 2,
      "outputs": [
        {
          "output_type": "stream",
          "name": "stdout",
          "text": [
            "/resources/data/all.txt: Scheme missing.\n",
            "--2021-10-24 09:04:30--  https://drive.google.com/file/d/1IH1tCQRbJBJGTnUxKNnCwvhLI9IPVCnf/view?usp=sharing\n",
            "Resolving drive.google.com (drive.google.com)... 142.250.141.100, 142.250.141.138, 142.250.141.101, ...\n",
            "Connecting to drive.google.com (drive.google.com)|142.250.141.100|:443... connected.\n",
            "HTTP request sent, awaiting response... 200 OK\n",
            "Length: unspecified [text/html]\n",
            "Saving to: ‘view?usp=sharing’\n",
            "\n",
            "view?usp=sharing        [ <=>                ]  65.16K  --.-KB/s    in 0.03s   \n",
            "\n",
            "2021-10-24 09:04:31 (2.33 MB/s) - ‘view?usp=sharing’ saved [66726]\n",
            "\n",
            "FINISHED --2021-10-24 09:04:31--\n",
            "Total wall clock time: 0.5s\n",
            "Downloaded: 1 files, 65K in 0.03s (2.33 MB/s)\n"
          ]
        }
      ]
    },
    {
      "cell_type": "code",
      "metadata": {
        "id": "k4FJRCWPyLLv"
      },
      "source": [
        "def starts_with_date_and_time(string):\n",
        "    pattern = '^([0-9]+)(/)([0-9]+)(/)([0-9][0-9]) ([0-9]+):([0-9][0-9]) -'\n",
        "    result = re.match(pattern, string)\n",
        "    if result:\n",
        "        return True\n",
        "    return False\n",
        "\n",
        "def get_data_point(line):   \n",
        "    splitLine = line.split(' - ')\n",
        "    dateTime = splitLine[0]\n",
        "    date, time = dateTime.split(' ') \n",
        "    message = ' '.join(splitLine[1:])\n",
        "    splitMessage = message.split(': ')\n",
        "    author = splitMessage[0]\n",
        "    message = ' '.join(splitMessage[1:])\n",
        "    return date, time, author, message\n",
        "\n",
        "parsedData = [] # List to keep track of data so it can be used by a Pandas dataframe\n",
        "### Uploading exported chat file\n",
        "conversationPath = '../content/drive/MyDrive/data/all.txt' # chat file\n",
        "with open(conversationPath, encoding=\"utf-8\") as fp:\n",
        "    ### Skipping first line of the file because contains information related to something about end-to-end encryption\n",
        "    fp.readline() \n",
        "    messageBuffer = [] \n",
        "    date, time, author = None, None, None\n",
        "    while True:\n",
        "        line = fp.readline() \n",
        "        if not line: \n",
        "            break\n",
        "        line = line.strip()\n",
        "        if starts_with_date_and_time(line):\n",
        "            if len(messageBuffer) > 0: \n",
        "                parsedData.append([date, time, author, ' '.join(messageBuffer)]) \n",
        "            messageBuffer.clear()\n",
        "            date, time, author, message = get_data_point(line) \n",
        "            messageBuffer.append(message)\n",
        "        else:\n",
        "            messageBuffer.append(line)\n",
        "df = pd.DataFrame(parsedData, columns=['Date', 'Time', 'Author', 'Message']) # Initialising a pandas Dataframe.\n",
        "### changing datatype of \"Date\" column.\n",
        "df[\"Date\"] = pd.to_datetime(df[\"Date\"])\n",
        "df[\"Time\"] = pd.to_datetime(df[\"Time\"], format='%H%M', errors='ignore')"
      ],
      "execution_count": 7,
      "outputs": []
    },
    {
      "cell_type": "code",
      "metadata": {
        "colab": {
          "base_uri": "https://localhost:8080/",
          "height": 204
        },
        "id": "W_7EQdzNyn_F",
        "outputId": "c181aef5-e281-472f-91b2-bcb8df234b31"
      },
      "source": [
        "df.head()"
      ],
      "execution_count": 8,
      "outputs": [
        {
          "output_type": "execute_result",
          "data": {
            "text/html": [
              "<div>\n",
              "<style scoped>\n",
              "    .dataframe tbody tr th:only-of-type {\n",
              "        vertical-align: middle;\n",
              "    }\n",
              "\n",
              "    .dataframe tbody tr th {\n",
              "        vertical-align: top;\n",
              "    }\n",
              "\n",
              "    .dataframe thead th {\n",
              "        text-align: right;\n",
              "    }\n",
              "</style>\n",
              "<table border=\"1\" class=\"dataframe\">\n",
              "  <thead>\n",
              "    <tr style=\"text-align: right;\">\n",
              "      <th></th>\n",
              "      <th>Date</th>\n",
              "      <th>Time</th>\n",
              "      <th>Author</th>\n",
              "      <th>Message</th>\n",
              "    </tr>\n",
              "  </thead>\n",
              "  <tbody>\n",
              "    <tr>\n",
              "      <th>0</th>\n",
              "      <td>2019-12-20</td>\n",
              "      <td>21:17</td>\n",
              "      <td>Leticia Olábarri</td>\n",
              "      <td>Adri</td>\n",
              "    </tr>\n",
              "    <tr>\n",
              "      <th>1</th>\n",
              "      <td>2019-12-20</td>\n",
              "      <td>21:17</td>\n",
              "      <td>Leticia Olábarri</td>\n",
              "      <td>¿Vienes?</td>\n",
              "    </tr>\n",
              "    <tr>\n",
              "      <th>2</th>\n",
              "      <td>2019-12-20</td>\n",
              "      <td>22:02</td>\n",
              "      <td>Adri Ávalos</td>\n",
              "      <td>Sí 😬</td>\n",
              "    </tr>\n",
              "    <tr>\n",
              "      <th>3</th>\n",
              "      <td>2019-12-20</td>\n",
              "      <td>22:03</td>\n",
              "      <td>Adri Ávalos</td>\n",
              "      <td>Ya voy</td>\n",
              "    </tr>\n",
              "    <tr>\n",
              "      <th>4</th>\n",
              "      <td>2019-12-20</td>\n",
              "      <td>22:03</td>\n",
              "      <td>Adri Ávalos</td>\n",
              "      <td>Me he liado un pelin</td>\n",
              "    </tr>\n",
              "  </tbody>\n",
              "</table>\n",
              "</div>"
            ],
            "text/plain": [
              "        Date   Time            Author               Message\n",
              "0 2019-12-20  21:17  Leticia Olábarri                  Adri\n",
              "1 2019-12-20  21:17  Leticia Olábarri              ¿Vienes?\n",
              "2 2019-12-20  22:02       Adri Ávalos                  Sí 😬\n",
              "3 2019-12-20  22:03       Adri Ávalos                Ya voy\n",
              "4 2019-12-20  22:03       Adri Ávalos  Me he liado un pelin"
            ]
          },
          "metadata": {},
          "execution_count": 8
        }
      ]
    },
    {
      "cell_type": "code",
      "metadata": {
        "id": "lwX-lPMkzPWZ"
      },
      "source": [
        "df.drop(df[(df['Author'] == 'Los mensajes y las llamadas están cifrados de extremo a extremo. Nadie fuera de este chat, ni siquiera WhatsApp, puede leerlos ni escucharlos. Toca para obtener más información.')].index, inplace=True)\n",
        "df.drop(df[(df['Author'] == '\\u200eMarcela Duque cambió su número de teléfono. Toca para enviar un mensaje o añadir el nuevo número.')].index, inplace=True)\n",
        "df.drop(df[(df['Author'] == '\\u200eMarcela Duque cambió su número de teléfono. Actualmente te estás comunicando con su nuevo número. Toca para añadir a tus contactos.')].index, inplace=True)"
      ],
      "execution_count": 9,
      "outputs": []
    },
    {
      "cell_type": "code",
      "metadata": {
        "id": "m2BqM2kBzePh"
      },
      "source": [
        "df.drop(df[(df['Message'] == '<Multimedia omitido>')].index, inplace=True)"
      ],
      "execution_count": 10,
      "outputs": []
    },
    {
      "cell_type": "code",
      "metadata": {
        "id": "cuc-y66NzhQ0"
      },
      "source": [
        "df[\"Message total length\"] = df[\"Message\"].apply(lambda x: len(x))\n",
        "df.drop(df[(df['Message total length'] < 10)].index, inplace=True)"
      ],
      "execution_count": 11,
      "outputs": []
    },
    {
      "cell_type": "code",
      "metadata": {
        "id": "LPIBro6Szl8X"
      },
      "source": [
        "def count_words(string):\n",
        "    word_list = string.split()\n",
        "\n",
        "    number_of_words = len(word_list)\n",
        "    return number_of_words\n",
        "\n",
        "df[\"Number of words\"] = df[\"Message\"].apply(lambda x: count_words(x))"
      ],
      "execution_count": 12,
      "outputs": []
    },
    {
      "cell_type": "code",
      "metadata": {
        "id": "XojqgDk9zqRP"
      },
      "source": [
        "def count_intro_signs(string):\n",
        "    count = 0\n",
        "    for i in string:\n",
        "        if (i == \"¿\") or (i == \"¡\"):\n",
        "            count = count + 1\n",
        "    return count\n",
        "\n",
        "df[\"Number of intro signs (¿ or ¡)\"] = df[\"Message\"].apply(lambda x: count_intro_signs(x))"
      ],
      "execution_count": 13,
      "outputs": []
    },
    {
      "cell_type": "code",
      "metadata": {
        "id": "Y6jjBu-GzuvW"
      },
      "source": [
        "def count_stops_and_commas(string):\n",
        "    count = 0\n",
        "    for i in string:\n",
        "        if (i == \".\") or (i == \",\"):\n",
        "            count = count + 1\n",
        "    return count\n",
        "\n",
        "df[\"Number of stops and commas\"] = df[\"Message\"].apply(lambda x: count_stops_and_commas(x))"
      ],
      "execution_count": 14,
      "outputs": []
    },
    {
      "cell_type": "code",
      "metadata": {
        "id": "gE7nL9RxCLoQ"
      },
      "source": [
        "def count_strange_words(string):\n",
        "    count = 0\n",
        "    word_list = string.split()\n",
        "    if (\" xfa \" in word_list) or (\" q \" in word_list):\n",
        "        count = count + 1\n",
        "    return count\n",
        "\n",
        "df[\"Number of attypical abbreviations\"] = df[\"Message\"].apply(lambda x: count_strange_words(x))"
      ],
      "execution_count": 20,
      "outputs": []
    },
    {
      "cell_type": "code",
      "metadata": {
        "colab": {
          "base_uri": "https://localhost:8080/",
          "height": 323
        },
        "id": "PlQUjJBxz4__",
        "outputId": "ce527660-87a4-4d14-f737-2c8a382da6a7"
      },
      "source": [
        "df.head()"
      ],
      "execution_count": 21,
      "outputs": [
        {
          "output_type": "execute_result",
          "data": {
            "text/html": [
              "<div>\n",
              "<style scoped>\n",
              "    .dataframe tbody tr th:only-of-type {\n",
              "        vertical-align: middle;\n",
              "    }\n",
              "\n",
              "    .dataframe tbody tr th {\n",
              "        vertical-align: top;\n",
              "    }\n",
              "\n",
              "    .dataframe thead th {\n",
              "        text-align: right;\n",
              "    }\n",
              "</style>\n",
              "<table border=\"1\" class=\"dataframe\">\n",
              "  <thead>\n",
              "    <tr style=\"text-align: right;\">\n",
              "      <th></th>\n",
              "      <th>Date</th>\n",
              "      <th>Time</th>\n",
              "      <th>Author</th>\n",
              "      <th>Message</th>\n",
              "      <th>Message total length</th>\n",
              "      <th>Number of words</th>\n",
              "      <th>Number of intro signs (¿ or ¡)</th>\n",
              "      <th>Number of stops and commas</th>\n",
              "      <th>Number of attypical abbreviations</th>\n",
              "    </tr>\n",
              "  </thead>\n",
              "  <tbody>\n",
              "    <tr>\n",
              "      <th>4</th>\n",
              "      <td>2019-12-20</td>\n",
              "      <td>22:03</td>\n",
              "      <td>0</td>\n",
              "      <td>Me he liado un pelin</td>\n",
              "      <td>20</td>\n",
              "      <td>5</td>\n",
              "      <td>0</td>\n",
              "      <td>0</td>\n",
              "      <td>0</td>\n",
              "    </tr>\n",
              "    <tr>\n",
              "      <th>5</th>\n",
              "      <td>2019-12-20</td>\n",
              "      <td>22:09</td>\n",
              "      <td>1</td>\n",
              "      <td>Vaaaaaamooooooossssss</td>\n",
              "      <td>21</td>\n",
              "      <td>1</td>\n",
              "      <td>0</td>\n",
              "      <td>0</td>\n",
              "      <td>0</td>\n",
              "    </tr>\n",
              "    <tr>\n",
              "      <th>7</th>\n",
              "      <td>2019-12-20</td>\n",
              "      <td>22:14</td>\n",
              "      <td>1</td>\n",
              "      <td>Avisa cuando llegues</td>\n",
              "      <td>20</td>\n",
              "      <td>3</td>\n",
              "      <td>0</td>\n",
              "      <td>0</td>\n",
              "      <td>0</td>\n",
              "    </tr>\n",
              "    <tr>\n",
              "      <th>9</th>\n",
              "      <td>2019-12-20</td>\n",
              "      <td>22:15</td>\n",
              "      <td>0</td>\n",
              "      <td>Por dónde estáis ?</td>\n",
              "      <td>18</td>\n",
              "      <td>4</td>\n",
              "      <td>0</td>\n",
              "      <td>0</td>\n",
              "      <td>0</td>\n",
              "    </tr>\n",
              "    <tr>\n",
              "      <th>11</th>\n",
              "      <td>2019-12-20</td>\n",
              "      <td>22:15</td>\n",
              "      <td>1</td>\n",
              "      <td>Enfrente del escenario</td>\n",
              "      <td>22</td>\n",
              "      <td>3</td>\n",
              "      <td>0</td>\n",
              "      <td>0</td>\n",
              "      <td>0</td>\n",
              "    </tr>\n",
              "  </tbody>\n",
              "</table>\n",
              "</div>"
            ],
            "text/plain": [
              "         Date  ... Number of attypical abbreviations\n",
              "4  2019-12-20  ...                                 0\n",
              "5  2019-12-20  ...                                 0\n",
              "7  2019-12-20  ...                                 0\n",
              "9  2019-12-20  ...                                 0\n",
              "11 2019-12-20  ...                                 0\n",
              "\n",
              "[5 rows x 9 columns]"
            ]
          },
          "metadata": {},
          "execution_count": 21
        }
      ]
    },
    {
      "cell_type": "code",
      "metadata": {
        "colab": {
          "base_uri": "https://localhost:8080/"
        },
        "id": "9XYBAuXmz6pd",
        "outputId": "9f28601d-6b0f-4e29-80cc-e06a8b22ee05"
      },
      "source": [
        "df.shape"
      ],
      "execution_count": 22,
      "outputs": [
        {
          "output_type": "execute_result",
          "data": {
            "text/plain": [
              "(43096, 9)"
            ]
          },
          "metadata": {},
          "execution_count": 22
        }
      ]
    },
    {
      "cell_type": "code",
      "metadata": {
        "id": "efNZjJJ2z9-w"
      },
      "source": [
        "def transform_names(name):\n",
        "    if name == \"Leticia Olábarri\":\n",
        "        return 1\n",
        "    else:\n",
        "        return 0\n",
        "\n",
        "df[\"Author\"] = df[\"Author\"].apply(transform_names)"
      ],
      "execution_count": 23,
      "outputs": []
    },
    {
      "cell_type": "code",
      "metadata": {
        "colab": {
          "base_uri": "https://localhost:8080/",
          "height": 323
        },
        "id": "5tBtVE5_0Cs_",
        "outputId": "68c5562d-4171-4216-c075-b7c6263e6b22"
      },
      "source": [
        "df.head()"
      ],
      "execution_count": 24,
      "outputs": [
        {
          "output_type": "execute_result",
          "data": {
            "text/html": [
              "<div>\n",
              "<style scoped>\n",
              "    .dataframe tbody tr th:only-of-type {\n",
              "        vertical-align: middle;\n",
              "    }\n",
              "\n",
              "    .dataframe tbody tr th {\n",
              "        vertical-align: top;\n",
              "    }\n",
              "\n",
              "    .dataframe thead th {\n",
              "        text-align: right;\n",
              "    }\n",
              "</style>\n",
              "<table border=\"1\" class=\"dataframe\">\n",
              "  <thead>\n",
              "    <tr style=\"text-align: right;\">\n",
              "      <th></th>\n",
              "      <th>Date</th>\n",
              "      <th>Time</th>\n",
              "      <th>Author</th>\n",
              "      <th>Message</th>\n",
              "      <th>Message total length</th>\n",
              "      <th>Number of words</th>\n",
              "      <th>Number of intro signs (¿ or ¡)</th>\n",
              "      <th>Number of stops and commas</th>\n",
              "      <th>Number of attypical abbreviations</th>\n",
              "    </tr>\n",
              "  </thead>\n",
              "  <tbody>\n",
              "    <tr>\n",
              "      <th>4</th>\n",
              "      <td>2019-12-20</td>\n",
              "      <td>22:03</td>\n",
              "      <td>0</td>\n",
              "      <td>Me he liado un pelin</td>\n",
              "      <td>20</td>\n",
              "      <td>5</td>\n",
              "      <td>0</td>\n",
              "      <td>0</td>\n",
              "      <td>0</td>\n",
              "    </tr>\n",
              "    <tr>\n",
              "      <th>5</th>\n",
              "      <td>2019-12-20</td>\n",
              "      <td>22:09</td>\n",
              "      <td>0</td>\n",
              "      <td>Vaaaaaamooooooossssss</td>\n",
              "      <td>21</td>\n",
              "      <td>1</td>\n",
              "      <td>0</td>\n",
              "      <td>0</td>\n",
              "      <td>0</td>\n",
              "    </tr>\n",
              "    <tr>\n",
              "      <th>7</th>\n",
              "      <td>2019-12-20</td>\n",
              "      <td>22:14</td>\n",
              "      <td>0</td>\n",
              "      <td>Avisa cuando llegues</td>\n",
              "      <td>20</td>\n",
              "      <td>3</td>\n",
              "      <td>0</td>\n",
              "      <td>0</td>\n",
              "      <td>0</td>\n",
              "    </tr>\n",
              "    <tr>\n",
              "      <th>9</th>\n",
              "      <td>2019-12-20</td>\n",
              "      <td>22:15</td>\n",
              "      <td>0</td>\n",
              "      <td>Por dónde estáis ?</td>\n",
              "      <td>18</td>\n",
              "      <td>4</td>\n",
              "      <td>0</td>\n",
              "      <td>0</td>\n",
              "      <td>0</td>\n",
              "    </tr>\n",
              "    <tr>\n",
              "      <th>11</th>\n",
              "      <td>2019-12-20</td>\n",
              "      <td>22:15</td>\n",
              "      <td>0</td>\n",
              "      <td>Enfrente del escenario</td>\n",
              "      <td>22</td>\n",
              "      <td>3</td>\n",
              "      <td>0</td>\n",
              "      <td>0</td>\n",
              "      <td>0</td>\n",
              "    </tr>\n",
              "  </tbody>\n",
              "</table>\n",
              "</div>"
            ],
            "text/plain": [
              "         Date  ... Number of attypical abbreviations\n",
              "4  2019-12-20  ...                                 0\n",
              "5  2019-12-20  ...                                 0\n",
              "7  2019-12-20  ...                                 0\n",
              "9  2019-12-20  ...                                 0\n",
              "11 2019-12-20  ...                                 0\n",
              "\n",
              "[5 rows x 9 columns]"
            ]
          },
          "metadata": {},
          "execution_count": 24
        }
      ]
    },
    {
      "cell_type": "code",
      "metadata": {
        "id": "GHOe8WDn0DmI"
      },
      "source": [
        "X = df.drop(columns=[\"Author\", \"Date\", \"Time\"])"
      ],
      "execution_count": 25,
      "outputs": []
    },
    {
      "cell_type": "code",
      "metadata": {
        "colab": {
          "base_uri": "https://localhost:8080/",
          "height": 221
        },
        "id": "Lb85Y4bU0Mad",
        "outputId": "97dcd5d0-e2f3-4315-b658-a835df0d44a7"
      },
      "source": [
        "X.head()"
      ],
      "execution_count": 26,
      "outputs": [
        {
          "output_type": "execute_result",
          "data": {
            "text/html": [
              "<div>\n",
              "<style scoped>\n",
              "    .dataframe tbody tr th:only-of-type {\n",
              "        vertical-align: middle;\n",
              "    }\n",
              "\n",
              "    .dataframe tbody tr th {\n",
              "        vertical-align: top;\n",
              "    }\n",
              "\n",
              "    .dataframe thead th {\n",
              "        text-align: right;\n",
              "    }\n",
              "</style>\n",
              "<table border=\"1\" class=\"dataframe\">\n",
              "  <thead>\n",
              "    <tr style=\"text-align: right;\">\n",
              "      <th></th>\n",
              "      <th>Message</th>\n",
              "      <th>Message total length</th>\n",
              "      <th>Number of words</th>\n",
              "      <th>Number of intro signs (¿ or ¡)</th>\n",
              "      <th>Number of stops and commas</th>\n",
              "      <th>Number of attypical abbreviations</th>\n",
              "    </tr>\n",
              "  </thead>\n",
              "  <tbody>\n",
              "    <tr>\n",
              "      <th>4</th>\n",
              "      <td>Me he liado un pelin</td>\n",
              "      <td>20</td>\n",
              "      <td>5</td>\n",
              "      <td>0</td>\n",
              "      <td>0</td>\n",
              "      <td>0</td>\n",
              "    </tr>\n",
              "    <tr>\n",
              "      <th>5</th>\n",
              "      <td>Vaaaaaamooooooossssss</td>\n",
              "      <td>21</td>\n",
              "      <td>1</td>\n",
              "      <td>0</td>\n",
              "      <td>0</td>\n",
              "      <td>0</td>\n",
              "    </tr>\n",
              "    <tr>\n",
              "      <th>7</th>\n",
              "      <td>Avisa cuando llegues</td>\n",
              "      <td>20</td>\n",
              "      <td>3</td>\n",
              "      <td>0</td>\n",
              "      <td>0</td>\n",
              "      <td>0</td>\n",
              "    </tr>\n",
              "    <tr>\n",
              "      <th>9</th>\n",
              "      <td>Por dónde estáis ?</td>\n",
              "      <td>18</td>\n",
              "      <td>4</td>\n",
              "      <td>0</td>\n",
              "      <td>0</td>\n",
              "      <td>0</td>\n",
              "    </tr>\n",
              "    <tr>\n",
              "      <th>11</th>\n",
              "      <td>Enfrente del escenario</td>\n",
              "      <td>22</td>\n",
              "      <td>3</td>\n",
              "      <td>0</td>\n",
              "      <td>0</td>\n",
              "      <td>0</td>\n",
              "    </tr>\n",
              "  </tbody>\n",
              "</table>\n",
              "</div>"
            ],
            "text/plain": [
              "                   Message  ...  Number of attypical abbreviations\n",
              "4     Me he liado un pelin  ...                                  0\n",
              "5    Vaaaaaamooooooossssss  ...                                  0\n",
              "7     Avisa cuando llegues  ...                                  0\n",
              "9       Por dónde estáis ?  ...                                  0\n",
              "11  Enfrente del escenario  ...                                  0\n",
              "\n",
              "[5 rows x 6 columns]"
            ]
          },
          "metadata": {},
          "execution_count": 26
        }
      ]
    },
    {
      "cell_type": "code",
      "metadata": {
        "id": "lOozTXOm2-tu"
      },
      "source": [
        "X_train, X_test, y_train, y_test = train_test_split(X, df[\"Author\"], test_size=0.2, random_state=42)"
      ],
      "execution_count": 27,
      "outputs": []
    },
    {
      "cell_type": "code",
      "metadata": {
        "colab": {
          "base_uri": "https://localhost:8080/"
        },
        "id": "k6PMQdI34K3n",
        "outputId": "c5fe333f-4bea-4076-af2c-560276418e6a"
      },
      "source": [
        "X_train.shape"
      ],
      "execution_count": 28,
      "outputs": [
        {
          "output_type": "execute_result",
          "data": {
            "text/plain": [
              "(34476, 6)"
            ]
          },
          "metadata": {},
          "execution_count": 28
        }
      ]
    },
    {
      "cell_type": "code",
      "metadata": {
        "colab": {
          "base_uri": "https://localhost:8080/"
        },
        "id": "0tJ25kPf4OGY",
        "outputId": "23a6e9de-455c-4d92-af55-634b7b97461f"
      },
      "source": [
        "X_test.shape"
      ],
      "execution_count": 29,
      "outputs": [
        {
          "output_type": "execute_result",
          "data": {
            "text/plain": [
              "(8620, 6)"
            ]
          },
          "metadata": {},
          "execution_count": 29
        }
      ]
    },
    {
      "cell_type": "code",
      "metadata": {
        "colab": {
          "base_uri": "https://localhost:8080/"
        },
        "id": "w32PfBDo4QEJ",
        "outputId": "361f46aa-2de0-4aef-9e6b-4ddece29c1dc"
      },
      "source": [
        "y_train.shape"
      ],
      "execution_count": 30,
      "outputs": [
        {
          "output_type": "execute_result",
          "data": {
            "text/plain": [
              "(34476,)"
            ]
          },
          "metadata": {},
          "execution_count": 30
        }
      ]
    },
    {
      "cell_type": "code",
      "metadata": {
        "colab": {
          "base_uri": "https://localhost:8080/"
        },
        "id": "a8IjVJXL4ViJ",
        "outputId": "3d36ed06-8a08-43fe-a73c-6753ecf82a56"
      },
      "source": [
        "y_test.shape"
      ],
      "execution_count": 31,
      "outputs": [
        {
          "output_type": "execute_result",
          "data": {
            "text/plain": [
              "(8620,)"
            ]
          },
          "metadata": {},
          "execution_count": 31
        }
      ]
    },
    {
      "cell_type": "code",
      "metadata": {
        "colab": {
          "base_uri": "https://localhost:8080/"
        },
        "id": "32-XvcMT4aqY",
        "outputId": "ff918c9b-ea3e-4f48-b869-457c1c0de19c"
      },
      "source": [
        "y_test.head()"
      ],
      "execution_count": 32,
      "outputs": [
        {
          "output_type": "execute_result",
          "data": {
            "text/plain": [
              "13330    0\n",
              "23560    0\n",
              "22477    0\n",
              "45727    0\n",
              "52977    0\n",
              "Name: Author, dtype: int64"
            ]
          },
          "metadata": {},
          "execution_count": 32
        }
      ]
    },
    {
      "cell_type": "code",
      "metadata": {
        "colab": {
          "base_uri": "https://localhost:8080/"
        },
        "id": "dorbUpsU4dEF",
        "outputId": "0a274b82-1067-41de-efce-7984d2e8e583"
      },
      "source": [
        "labels = y_train.unique()\n",
        "labels"
      ],
      "execution_count": 33,
      "outputs": [
        {
          "output_type": "execute_result",
          "data": {
            "text/plain": [
              "array([0])"
            ]
          },
          "metadata": {},
          "execution_count": 33
        }
      ]
    },
    {
      "cell_type": "code",
      "metadata": {
        "id": "lUGjaGgrJITf"
      },
      "source": [
        "X_train_feat = X_train.drop(columns=[\"Message\"])\n",
        "X_test_feat = X_test.drop(columns=[\"Message\"])\n",
        "X_train_mess = X_train[\"Message\"]\n",
        "X_test_mess = X_test[\"Message\"]"
      ],
      "execution_count": 34,
      "outputs": []
    },
    {
      "cell_type": "code",
      "metadata": {
        "id": "uR8xqZ98MZLQ"
      },
      "source": [
        "max_features = 10000\n",
        "sequence_length = 1000\n",
        "\n",
        "vectorize_layer = layers.TextVectorization(\n",
        "    max_tokens=max_features,\n",
        "    output_mode='int',\n",
        "    output_sequence_length=sequence_length)"
      ],
      "execution_count": 35,
      "outputs": []
    },
    {
      "cell_type": "code",
      "metadata": {
        "id": "sufPCqniSbWW"
      },
      "source": [
        "vectorize_layer.adapt(X_train_mess)"
      ],
      "execution_count": 36,
      "outputs": []
    },
    {
      "cell_type": "code",
      "metadata": {
        "id": "p3YByDy9Seq4"
      },
      "source": [
        "train_ds_mess = vectorize_layer(X_train_mess)\n",
        "test_ds_mess = vectorize_layer(X_test_mess)"
      ],
      "execution_count": 37,
      "outputs": []
    },
    {
      "cell_type": "code",
      "metadata": {
        "colab": {
          "base_uri": "https://localhost:8080/"
        },
        "id": "DKLGPSPCSpwJ",
        "outputId": "c7d2d490-4b6b-4a7b-fdca-434065290459"
      },
      "source": [
        "embedding_dim = 16\n",
        "\n",
        "model_vector = tf.keras.Sequential([\n",
        "  layers.Embedding(max_features + 1, embedding_dim),\n",
        "  layers.Dropout(0.2),\n",
        "  layers.GlobalAveragePooling1D(),\n",
        "  layers.Dropout(0.2),\n",
        "  layers.Dense(1)])\n",
        "\n",
        "model_vector.summary()"
      ],
      "execution_count": 38,
      "outputs": [
        {
          "output_type": "stream",
          "name": "stdout",
          "text": [
            "Model: \"sequential\"\n",
            "_________________________________________________________________\n",
            "Layer (type)                 Output Shape              Param #   \n",
            "=================================================================\n",
            "embedding (Embedding)        (None, None, 16)          160016    \n",
            "_________________________________________________________________\n",
            "dropout (Dropout)            (None, None, 16)          0         \n",
            "_________________________________________________________________\n",
            "global_average_pooling1d (Gl (None, 16)                0         \n",
            "_________________________________________________________________\n",
            "dropout_1 (Dropout)          (None, 16)                0         \n",
            "_________________________________________________________________\n",
            "dense (Dense)                (None, 1)                 17        \n",
            "=================================================================\n",
            "Total params: 160,033\n",
            "Trainable params: 160,033\n",
            "Non-trainable params: 0\n",
            "_________________________________________________________________\n"
          ]
        }
      ]
    },
    {
      "cell_type": "code",
      "metadata": {
        "id": "xCqeBFBGkt1m"
      },
      "source": [
        ""
      ],
      "execution_count": null,
      "outputs": []
    }
  ]
}