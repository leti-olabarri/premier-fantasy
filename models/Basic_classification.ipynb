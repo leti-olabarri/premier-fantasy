{
  "nbformat": 4,
  "nbformat_minor": 0,
  "metadata": {
    "colab": {
      "name": "Basic_classification.ipynb",
      "provenance": [],
      "authorship_tag": "ABX9TyPcfsiqCT92zBFREBgK/kGj",
      "include_colab_link": true
    },
    "kernelspec": {
      "name": "python3",
      "display_name": "Python 3"
    },
    "language_info": {
      "name": "python"
    }
  },
  "cells": [
    {
      "cell_type": "markdown",
      "metadata": {
        "id": "view-in-github",
        "colab_type": "text"
      },
      "source": [
        "<a href=\"https://colab.research.google.com/github/leti-olabarri/premier-fantasy/blob/feature%2Fload_data/models/Basic_classification.ipynb\" target=\"_parent\"><img src=\"https://colab.research.google.com/assets/colab-badge.svg\" alt=\"Open In Colab\"/></a>"
      ]
    },
    {
      "cell_type": "code",
      "metadata": {
        "id": "ta1JdrhZrx9e"
      },
      "source": [
        "import tensorflow as tf\n",
        "\n",
        "from tensorflow.keras import layers\n",
        "from tensorflow.keras import losses\n",
        "from tensorflow.keras import preprocessing\n",
        "\n",
        "import pandas as pd\n",
        "import matplotlib.pyplot as plt\n",
        "import re\n",
        "import numpy as np\n",
        "\n",
        "from sklearn.model_selection import train_test_split"
      ],
      "execution_count": 11,
      "outputs": []
    },
    {
      "cell_type": "code",
      "metadata": {
        "colab": {
          "base_uri": "https://localhost:8080/"
        },
        "id": "wzU1SH04vw8X",
        "outputId": "4a819e21-4bc6-4b87-872f-2db005b5717e"
      },
      "source": [
        "!wget /resources/data/Vir.txt https://drive.google.com/file/d/1YUKdlBqhPnNW0h40bFVlDusgaAbESUrX/"
      ],
      "execution_count": 7,
      "outputs": [
        {
          "output_type": "stream",
          "name": "stdout",
          "text": [
            "/resources/data/Vir.txt: Scheme missing.\n",
            "--2021-10-22 16:07:25--  https://drive.google.com/file/d/1YUKdlBqhPnNW0h40bFVlDusgaAbESUrX/\n",
            "Resolving drive.google.com (drive.google.com)... 172.253.114.102, 172.253.114.138, 172.253.114.100, ...\n",
            "Connecting to drive.google.com (drive.google.com)|172.253.114.102|:443... connected.\n",
            "HTTP request sent, awaiting response... 302 Moved Temporarily\n",
            "Location: https://drive.google.com/file/d/1YUKdlBqhPnNW0h40bFVlDusgaAbESUrX/edit [following]\n",
            "--2021-10-22 16:07:25--  https://drive.google.com/file/d/1YUKdlBqhPnNW0h40bFVlDusgaAbESUrX/edit\n",
            "Reusing existing connection to drive.google.com:443.\n",
            "HTTP request sent, awaiting response... 200 OK\n",
            "Length: unspecified [text/html]\n",
            "Saving to: ‘index.html’\n",
            "\n",
            "index.html              [ <=>                ]  65.15K  --.-KB/s    in 0.001s  \n",
            "\n",
            "2021-10-22 16:07:25 (78.8 MB/s) - ‘index.html’ saved [66711]\n",
            "\n",
            "FINISHED --2021-10-22 16:07:25--\n",
            "Total wall clock time: 0.6s\n",
            "Downloaded: 1 files, 65K in 0.001s (78.8 MB/s)\n"
          ]
        }
      ]
    },
    {
      "cell_type": "code",
      "metadata": {
        "id": "Xz_G_Zm3uImD"
      },
      "source": [
        "def startsWithDateAndTime(s):\n",
        "    pattern = '^([0-9]+)(/)([0-9]+)(/)([0-9][0-9]) ([0-9]+):([0-9][0-9]) -'\n",
        "    result = re.match(pattern, s)\n",
        "    if result:\n",
        "        return True\n",
        "    return False\n",
        "\n",
        "def getDataPoint(line):   \n",
        "    splitLine = line.split(' - ')\n",
        "    dateTime = splitLine[0]\n",
        "    date, time = dateTime.split(' ') \n",
        "    message = ' '.join(splitLine[1:])\n",
        "    splitMessage = message.split(': ')\n",
        "    author = splitMessage[0]\n",
        "    message = ' '.join(splitMessage[1:])\n",
        "    return date, time, author, message\n",
        "\n",
        "parsedData = [] # List to keep track of data so it can be used by a Pandas dataframe\n",
        "### Uploading exported chat file\n",
        "conversationPath = '/content/Chat de WhatsApp con Vir.txt' # chat file\n",
        "with open(conversationPath, encoding=\"utf-8\") as fp:\n",
        "    ### Skipping first line of the file because contains information related to something about end-to-end encryption\n",
        "    fp.readline() \n",
        "    messageBuffer = [] \n",
        "    date, time, author = None, None, None\n",
        "    while True:\n",
        "        line = fp.readline() \n",
        "        if not line: \n",
        "            break\n",
        "        line = line.strip()\n",
        "        if startsWithDateAndTime(line):\n",
        "            if len(messageBuffer) > 0: \n",
        "                parsedData.append([date, time, author, ' '.join(messageBuffer)]) \n",
        "            messageBuffer.clear()\n",
        "            date, time, author, message = getDataPoint(line) \n",
        "            messageBuffer.append(message)\n",
        "        else:\n",
        "            messageBuffer.append(line)\n",
        "df = pd.DataFrame(parsedData, columns=['Date', 'Time', 'Author', 'Message']) # Initialising a pandas Dataframe.\n",
        "### changing datatype of \"Date\" column.\n",
        "df[\"Date\"] = pd.to_datetime(df[\"Date\"])"
      ],
      "execution_count": 12,
      "outputs": []
    },
    {
      "cell_type": "code",
      "metadata": {
        "colab": {
          "base_uri": "https://localhost:8080/",
          "height": 204
        },
        "id": "xbwAnwJhyOim",
        "outputId": "c243aa53-c20d-424f-a6b8-e6b563a503d6"
      },
      "source": [
        "df.head()"
      ],
      "execution_count": 13,
      "outputs": [
        {
          "output_type": "execute_result",
          "data": {
            "text/html": [
              "<div>\n",
              "<style scoped>\n",
              "    .dataframe tbody tr th:only-of-type {\n",
              "        vertical-align: middle;\n",
              "    }\n",
              "\n",
              "    .dataframe tbody tr th {\n",
              "        vertical-align: top;\n",
              "    }\n",
              "\n",
              "    .dataframe thead th {\n",
              "        text-align: right;\n",
              "    }\n",
              "</style>\n",
              "<table border=\"1\" class=\"dataframe\">\n",
              "  <thead>\n",
              "    <tr style=\"text-align: right;\">\n",
              "      <th></th>\n",
              "      <th>Date</th>\n",
              "      <th>Time</th>\n",
              "      <th>Author</th>\n",
              "      <th>Message</th>\n",
              "    </tr>\n",
              "  </thead>\n",
              "  <tbody>\n",
              "    <tr>\n",
              "      <th>0</th>\n",
              "      <td>2019-12-16</td>\n",
              "      <td>20:28</td>\n",
              "      <td>Vir</td>\n",
              "      <td>Mañana nos juntamos media horita y vemos un po...</td>\n",
              "    </tr>\n",
              "    <tr>\n",
              "      <th>1</th>\n",
              "      <td>2019-12-16</td>\n",
              "      <td>20:28</td>\n",
              "      <td>Vir</td>\n",
              "      <td>?!</td>\n",
              "    </tr>\n",
              "    <tr>\n",
              "      <th>2</th>\n",
              "      <td>2019-12-16</td>\n",
              "      <td>20:28</td>\n",
              "      <td>Vir</td>\n",
              "      <td>Un poco a modo de recuperar las weekly que ten...</td>\n",
              "    </tr>\n",
              "    <tr>\n",
              "      <th>3</th>\n",
              "      <td>2019-12-16</td>\n",
              "      <td>21:10</td>\n",
              "      <td>Leticia Olábarri</td>\n",
              "      <td>Te los agradecería muchísimo, la verdad</td>\n",
              "    </tr>\n",
              "    <tr>\n",
              "      <th>4</th>\n",
              "      <td>2019-12-16</td>\n",
              "      <td>21:11</td>\n",
              "      <td>Leticia Olábarri</td>\n",
              "      <td>*lo</td>\n",
              "    </tr>\n",
              "  </tbody>\n",
              "</table>\n",
              "</div>"
            ],
            "text/plain": [
              "        Date  ...                                            Message\n",
              "0 2019-12-16  ...  Mañana nos juntamos media horita y vemos un po...\n",
              "1 2019-12-16  ...                                                 ?!\n",
              "2 2019-12-16  ...  Un poco a modo de recuperar las weekly que ten...\n",
              "3 2019-12-16  ...            Te los agradecería muchísimo, la verdad\n",
              "4 2019-12-16  ...                                                *lo\n",
              "\n",
              "[5 rows x 4 columns]"
            ]
          },
          "metadata": {},
          "execution_count": 13
        }
      ]
    },
    {
      "cell_type": "code",
      "metadata": {
        "id": "KxJP-uhmyX_d"
      },
      "source": [
        "def transform_names(name):\n",
        "    if name == \"Leticia Olábarri\":\n",
        "        return 1\n",
        "    else:\n",
        "        return 0\n",
        "\n",
        "df[\"Author\"] = df[\"Author\"].apply(transform_names)"
      ],
      "execution_count": 14,
      "outputs": []
    },
    {
      "cell_type": "code",
      "metadata": {
        "colab": {
          "base_uri": "https://localhost:8080/",
          "height": 204
        },
        "id": "xEgVSQJTy03c",
        "outputId": "18c5f952-db71-47cc-a4d5-af865918e275"
      },
      "source": [
        "df.head()"
      ],
      "execution_count": 44,
      "outputs": [
        {
          "output_type": "execute_result",
          "data": {
            "text/html": [
              "<div>\n",
              "<style scoped>\n",
              "    .dataframe tbody tr th:only-of-type {\n",
              "        vertical-align: middle;\n",
              "    }\n",
              "\n",
              "    .dataframe tbody tr th {\n",
              "        vertical-align: top;\n",
              "    }\n",
              "\n",
              "    .dataframe thead th {\n",
              "        text-align: right;\n",
              "    }\n",
              "</style>\n",
              "<table border=\"1\" class=\"dataframe\">\n",
              "  <thead>\n",
              "    <tr style=\"text-align: right;\">\n",
              "      <th></th>\n",
              "      <th>Date</th>\n",
              "      <th>Time</th>\n",
              "      <th>Author</th>\n",
              "      <th>Message</th>\n",
              "    </tr>\n",
              "  </thead>\n",
              "  <tbody>\n",
              "    <tr>\n",
              "      <th>0</th>\n",
              "      <td>2019-12-16</td>\n",
              "      <td>20:28</td>\n",
              "      <td>0</td>\n",
              "      <td>Mañana nos juntamos media horita y vemos un po...</td>\n",
              "    </tr>\n",
              "    <tr>\n",
              "      <th>1</th>\n",
              "      <td>2019-12-16</td>\n",
              "      <td>20:28</td>\n",
              "      <td>0</td>\n",
              "      <td>?!</td>\n",
              "    </tr>\n",
              "    <tr>\n",
              "      <th>2</th>\n",
              "      <td>2019-12-16</td>\n",
              "      <td>20:28</td>\n",
              "      <td>0</td>\n",
              "      <td>Un poco a modo de recuperar las weekly que ten...</td>\n",
              "    </tr>\n",
              "    <tr>\n",
              "      <th>3</th>\n",
              "      <td>2019-12-16</td>\n",
              "      <td>21:10</td>\n",
              "      <td>1</td>\n",
              "      <td>Te los agradecería muchísimo, la verdad</td>\n",
              "    </tr>\n",
              "    <tr>\n",
              "      <th>4</th>\n",
              "      <td>2019-12-16</td>\n",
              "      <td>21:11</td>\n",
              "      <td>1</td>\n",
              "      <td>*lo</td>\n",
              "    </tr>\n",
              "  </tbody>\n",
              "</table>\n",
              "</div>"
            ],
            "text/plain": [
              "        Date   Time  Author                                            Message\n",
              "0 2019-12-16  20:28       0  Mañana nos juntamos media horita y vemos un po...\n",
              "1 2019-12-16  20:28       0                                                 ?!\n",
              "2 2019-12-16  20:28       0  Un poco a modo de recuperar las weekly que ten...\n",
              "3 2019-12-16  21:10       1            Te los agradecería muchísimo, la verdad\n",
              "4 2019-12-16  21:11       1                                                *lo"
            ]
          },
          "metadata": {},
          "execution_count": 44
        }
      ]
    },
    {
      "cell_type": "code",
      "metadata": {
        "id": "R4Erp64l3D8f"
      },
      "source": [
        "df.drop(df.tail(1).index,inplace=True)"
      ],
      "execution_count": 45,
      "outputs": []
    },
    {
      "cell_type": "code",
      "metadata": {
        "id": "om9Lar_ey2lS"
      },
      "source": [
        "X_train, X_test, y_train, y_test = train_test_split(df[\"Message\"], df[\"Author\"], test_size=0.5, random_state=42)"
      ],
      "execution_count": 69,
      "outputs": []
    },
    {
      "cell_type": "code",
      "metadata": {
        "colab": {
          "base_uri": "https://localhost:8080/"
        },
        "id": "OLLpsfZI44hS",
        "outputId": "d8417567-6ef0-4c18-b97a-f8e9c678d643"
      },
      "source": [
        "labels = y_train.unique()\n",
        "labels"
      ],
      "execution_count": 70,
      "outputs": [
        {
          "output_type": "execute_result",
          "data": {
            "text/plain": [
              "array([1, 0])"
            ]
          },
          "metadata": {},
          "execution_count": 70
        }
      ]
    },
    {
      "cell_type": "code",
      "metadata": {
        "id": "8tClgefNy5W0"
      },
      "source": [
        "max_features = 10000\n",
        "sequence_length = 1000\n",
        "\n",
        "vectorize_layer = layers.TextVectorization(\n",
        "    max_tokens=max_features,\n",
        "    output_mode='int',\n",
        "    output_sequence_length=sequence_length)"
      ],
      "execution_count": 64,
      "outputs": []
    },
    {
      "cell_type": "code",
      "metadata": {
        "id": "tr5OmtG0y7ND"
      },
      "source": [
        "vectorize_layer.adapt(X_train)"
      ],
      "execution_count": 65,
      "outputs": []
    },
    {
      "cell_type": "code",
      "metadata": {
        "id": "Dpbz61rbzjN0"
      },
      "source": [
        "train_ds = vectorize_layer(X_train)\n",
        "test_ds = vectorize_layer(X_test)"
      ],
      "execution_count": 66,
      "outputs": []
    },
    {
      "cell_type": "code",
      "metadata": {
        "colab": {
          "base_uri": "https://localhost:8080/"
        },
        "id": "gCevaDsg1CV9",
        "outputId": "39e366e6-1df9-4c53-a158-7b84290a09ee"
      },
      "source": [
        "embedding_dim = 16\n",
        "\n",
        "model = tf.keras.Sequential([\n",
        "  layers.Embedding(max_features + 1, embedding_dim),\n",
        "  layers.Dropout(0.2),\n",
        "  layers.GlobalAveragePooling1D(),\n",
        "  layers.Dropout(0.2),\n",
        "  layers.Dense(1)])\n",
        "\n",
        "model.summary()"
      ],
      "execution_count": 81,
      "outputs": [
        {
          "output_type": "stream",
          "name": "stdout",
          "text": [
            "Model: \"sequential_8\"\n",
            "_________________________________________________________________\n",
            "Layer (type)                 Output Shape              Param #   \n",
            "=================================================================\n",
            "embedding_7 (Embedding)      (None, None, 16)          160016    \n",
            "_________________________________________________________________\n",
            "dropout_14 (Dropout)         (None, None, 16)          0         \n",
            "_________________________________________________________________\n",
            "global_average_pooling1d_7 ( (None, 16)                0         \n",
            "_________________________________________________________________\n",
            "dropout_15 (Dropout)         (None, 16)                0         \n",
            "_________________________________________________________________\n",
            "dense_7 (Dense)              (None, 1)                 17        \n",
            "=================================================================\n",
            "Total params: 160,033\n",
            "Trainable params: 160,033\n",
            "Non-trainable params: 0\n",
            "_________________________________________________________________\n"
          ]
        }
      ]
    },
    {
      "cell_type": "code",
      "metadata": {
        "id": "d-IlyG3D1OOL"
      },
      "source": [
        "model.compile(loss=losses.BinaryCrossentropy(from_logits=True),\n",
        "              optimizer='adam',\n",
        "              metrics=tf.metrics.BinaryAccuracy(threshold=0.0))"
      ],
      "execution_count": 82,
      "outputs": []
    },
    {
      "cell_type": "code",
      "metadata": {
        "colab": {
          "base_uri": "https://localhost:8080/"
        },
        "id": "mAhKERUx2oLx",
        "outputId": "ce48f531-27ca-484a-b6c5-ccdea9397dd4"
      },
      "source": [
        "print(len(train_ds))\n",
        "print(len(test_ds))"
      ],
      "execution_count": 52,
      "outputs": [
        {
          "output_type": "stream",
          "name": "stdout",
          "text": [
            "3545\n",
            "3545\n"
          ]
        }
      ]
    },
    {
      "cell_type": "code",
      "metadata": {
        "colab": {
          "base_uri": "https://localhost:8080/"
        },
        "id": "9b_phOZI2CWL",
        "outputId": "7c6ce400-2d8a-4dd7-b6c4-a3d4315ff170"
      },
      "source": [
        "epochs = 10\n",
        "history = model.fit(\n",
        "    train_ds,y_train,\n",
        "    validation_data= (test_ds, y_test),\n",
        "    epochs=epochs)"
      ],
      "execution_count": 83,
      "outputs": [
        {
          "output_type": "stream",
          "name": "stdout",
          "text": [
            "Epoch 1/10\n",
            "111/111 [==============================] - 2s 16ms/step - loss: 0.6934 - binary_accuracy: 0.5038 - val_loss: 0.6931 - val_binary_accuracy: 0.5007\n",
            "Epoch 2/10\n",
            "111/111 [==============================] - 2s 16ms/step - loss: 0.6933 - binary_accuracy: 0.4973 - val_loss: 0.6930 - val_binary_accuracy: 0.5007\n",
            "Epoch 3/10\n",
            "111/111 [==============================] - 2s 16ms/step - loss: 0.6931 - binary_accuracy: 0.5052 - val_loss: 0.6930 - val_binary_accuracy: 0.6350\n",
            "Epoch 4/10\n",
            "111/111 [==============================] - 2s 16ms/step - loss: 0.6932 - binary_accuracy: 0.4790 - val_loss: 0.6929 - val_binary_accuracy: 0.5035\n",
            "Epoch 5/10\n",
            "111/111 [==============================] - 2s 15ms/step - loss: 0.6928 - binary_accuracy: 0.5168 - val_loss: 0.6928 - val_binary_accuracy: 0.5007\n",
            "Epoch 6/10\n",
            "111/111 [==============================] - 2s 16ms/step - loss: 0.6931 - binary_accuracy: 0.5044 - val_loss: 0.6928 - val_binary_accuracy: 0.5927\n",
            "Epoch 7/10\n",
            "111/111 [==============================] - 2s 16ms/step - loss: 0.6931 - binary_accuracy: 0.5061 - val_loss: 0.6927 - val_binary_accuracy: 0.5334\n",
            "Epoch 8/10\n",
            "111/111 [==============================] - 2s 16ms/step - loss: 0.6926 - binary_accuracy: 0.5236 - val_loss: 0.6926 - val_binary_accuracy: 0.6203\n",
            "Epoch 9/10\n",
            "111/111 [==============================] - 2s 15ms/step - loss: 0.6926 - binary_accuracy: 0.5213 - val_loss: 0.6925 - val_binary_accuracy: 0.5518\n",
            "Epoch 10/10\n",
            "111/111 [==============================] - 2s 14ms/step - loss: 0.6925 - binary_accuracy: 0.5292 - val_loss: 0.6924 - val_binary_accuracy: 0.5131\n"
          ]
        }
      ]
    },
    {
      "cell_type": "code",
      "metadata": {
        "id": "a8-ruIM15-ZO"
      },
      "source": [
        ""
      ],
      "execution_count": null,
      "outputs": []
    }
  ]
}